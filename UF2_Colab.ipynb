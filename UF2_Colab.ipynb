{
 "cells": [
  {
   "cell_type": "markdown",
   "metadata": {
    "colab_type": "text",
    "id": "view-in-github"
   },
   "source": [
    "<a href=\"https://colab.research.google.com/github/peterarose/ultrafastultrafast/blob/master/UF2_Colab.ipynb\" target=\"_parent\"><img src=\"https://colab.research.google.com/assets/colab-badge.svg\" alt=\"Open In Colab\"/></a>"
   ]
  },
  {
   "cell_type": "markdown",
   "metadata": {
    "colab_type": "text",
    "id": "EmqeTwl0LYga"
   },
   "source": [
    "# Installation\n",
    "You must install UF2 into this instance of Colab in order to run this notebook (this will not install UF2 on your computer).  Install UF2 into this instance of Colab by running the following cell (if you reset the runtime, or close this window and then come back, you will have to evaluate the following cell again)"
   ]
  },
  {
   "cell_type": "code",
   "execution_count": 0,
   "metadata": {
    "colab": {},
    "colab_type": "code",
    "id": "pxeQ7kHpSTOr"
   },
   "outputs": [],
   "source": [
    "!pip install ultrafastultrafast"
   ]
  },
  {
   "cell_type": "markdown",
   "metadata": {
    "colab_type": "text",
    "id": "ZBnuVnuxxIuR"
   },
   "source": [
    "Now import UF2 and other useful pacakges, set up the notebook for ploting"
   ]
  },
  {
   "cell_type": "code",
   "execution_count": 0,
   "metadata": {
    "colab": {},
    "colab_type": "code",
    "id": "hmG5fDFRLYgc"
   },
   "outputs": [],
   "source": [
    "%matplotlib inline\n",
    "import ultrafastultrafast as uf2\n",
    "import numpy as np\n",
    "import matplotlib.pyplot as plt\n",
    "import yaml\n",
    "import os"
   ]
  },
  {
   "cell_type": "markdown",
   "metadata": {
    "colab_type": "text",
    "id": "-hu4MDUOLYgf"
   },
   "source": [
    "# $\\text{UF}^2$\n",
    "This code is based upon the algorithm Ultrafast Ultrafast ($\\text{UF}^2$).  For details see our paper https://doi.org/10.1063/1.5094062.\n",
    "\n",
    "The fundamental building block of this code is the class uf2.Wavepackets, which implements the $K_j$ and $K_{j^*}$ operators, which are class methods named \"up\" and \"down\" respectively, and can be used to calculate the wavepackets associated with any Feynman diagram.  See section Example Diagram below for an example of calculating a single diagram.  See section Signals below for examples of calculating full nonlinear optical signals."
   ]
  },
  {
   "cell_type": "markdown",
   "metadata": {
    "colab_type": "text",
    "id": "bB3JtgdgLYgf"
   },
   "source": [
    "## Requirements \n",
    "$\\text{UF}^2$ is a method for solving for the perturbative wavepackets of the full Hamiltonian\n",
    "$$H = H_0 -\\boldsymbol{\\mu}\\cdot \\boldsymbol{E}(t)$$\n",
    "using time-dependent perturbation theory (TDPT). Bold-face symbols are cartesian vectors.  $\\text{UF}^2$ requires that the system Hamiltonian, $H_0$ be time-independent, and therefore diagonalizeable.  The eigenvalues, $\\hbar\\omega_i$ of $H_0$ must be known\n",
    "$$H_0|i\\rangle = \\hbar\\omega_i|i\\rangle.$$\n",
    "The dipole operator $\\boldsymbol{\\mu}$ must also be known in the eigenbasis of $H_0$:\n",
    "$$\\boldsymbol{\\mu}_{ij} = \\langle j|\\boldsymbol{\\mu}|i\\rangle$$"
   ]
  },
  {
   "cell_type": "markdown",
   "metadata": {
    "colab_type": "text",
    "id": "ydGHC09MLYgg"
   },
   "source": [
    "In order to use this code, you must specify the file_path variable to a folder you create"
   ]
  },
  {
   "cell_type": "code",
   "execution_count": 0,
   "metadata": {
    "colab": {},
    "colab_type": "code",
    "id": "VVLbS4tN4oQP"
   },
   "outputs": [],
   "source": [
    "# This is a temporary folder we'll create in Colab to give an example\n",
    "file_path = '/tmp/dimer_example/'\n",
    "os.makedirs(file_path,exist_ok=True)"
   ]
  },
  {
   "cell_type": "markdown",
   "metadata": {
    "colab_type": "text",
    "id": "SdYrWWGjLYgi"
   },
   "source": [
    "## Unperturbed Hamiltonian H_0\n",
    "$\\text{UF}^2$ should be compatible with any time-independent unperturbed Hamiltonian that can be expressed in some basis as a matrix, and then diagonalized.\n",
    "\n",
    "In its current implementation, $\\text{UF}^2$ relies on the assumption that there are optically separated manifolds, so that $H_0$ is block diagonal with at least two blocks: the ground-state manifold (GSM) and the singly excited manifold (SEM).  There can be more manifolds.  $\\text{UF}^2$ is compatible with $n^{th}$-order spectroscopies, the most common of which are $3^{rd}$-order spectroscopies such as Transient Absorption, 2D photon echo, double quantum, and others.  Such spectroscopies are sensitive only to the GSM, SEM and doubly excited manifold (DEM).  Currently, this implementation only handles up to the DEM.\n",
    "\n",
    "If you have your own eigenvalues, and know the dipole operator in the eigenbasis, you can skip over the Vibronic Eigenstates subsection, and continue reading the necessary files section.  If you would like to use our package for generating and diagonalizing vibronic Hamiltonians, don't skip the Vibronic Eigenstates section!"
   ]
  },
  {
   "cell_type": "markdown",
   "metadata": {
    "colab_type": "text",
    "id": "fxyRios-LYgj"
   },
   "source": [
    "### Vibronic Eigenstates Package\n",
    "In order to give an example of $\\text{UF}^2$, we include with $\\text{UF}^2$ a package in the folder vibronic_eigenstates which has code for generating vibronic Hamiltonians and diagonalizing them.  In order to use this code, you must make a new, empty folder, and place in it a file called simple_params.yaml.  Here's an example of creating that file"
   ]
  },
  {
   "cell_type": "code",
   "execution_count": 0,
   "metadata": {
    "colab": {},
    "colab_type": "code",
    "id": "KyzXKqD7LYgg"
   },
   "outputs": [],
   "source": [
    "with open(file_path+'simple_params.yaml','w+') as f:\n",
    "  f.write(\"\"\"\n",
    "site_energies: [0,0.75]\n",
    "site_couplings: [0.3307]\n",
    "\n",
    "vibrations:\n",
    "  - {'omega_g':1.0, 'displacement':0.2,'site_label':0,'reorganization':0}\n",
    "  - {'omega_g':1.000001, 'displacement':0.2,'site_label':1,'reorganization':0}\n",
    "\n",
    "dipoles:\n",
    "  - [1,0,0]\n",
    "  - [0,1,0]\n",
    "\n",
    "num_eigenvalues: 'full'\n",
    "eigenvalue_precision: 1.0E-1\n",
    "truncation_size: 5\n",
    "\"\"\")"
   ]
  },
  {
   "cell_type": "code",
   "execution_count": 0,
   "metadata": {
    "colab": {},
    "colab_type": "code",
    "id": "AKrs8-U4LYgj"
   },
   "outputs": [],
   "source": [
    "with open(os.path.join(file_path,'simple_params.yaml')) as yamlstream:\n",
    "    simple_params = yaml.load(yamlstream)\n",
    "for key in simple_params.keys():\n",
    "    print(key,simple_params[key])"
   ]
  },
  {
   "cell_type": "markdown",
   "metadata": {
    "colab_type": "text",
    "id": "rwq7PGPtLYgn"
   },
   "source": [
    "To convert this simple parameters file, which is much more user-friendly than the parameters file actually required by the code, we provide a converter:"
   ]
  },
  {
   "cell_type": "code",
   "execution_count": 0,
   "metadata": {
    "colab": {},
    "colab_type": "code",
    "id": "RxAjujy0LYgn"
   },
   "outputs": [],
   "source": [
    "uf2.vibronic_eigenstates.convert(file_path)"
   ]
  },
  {
   "cell_type": "markdown",
   "metadata": {
    "colab_type": "text",
    "id": "l2xzXHf-LYgp"
   },
   "source": [
    "The folder created above should now contain the file params.yaml.  This file can also be opened in a text editor, and is the true parameter file to describe $H_0$.  Advanced users can edit this file directly to gain more control over $H_0$. Note: currently there is no documentation to describe how this works.  Coming soon!\n",
    "\n",
    "Important: the file params.yaml must exist in the folder in order to generate the necessary eigenvalues and eigenvectors.  The file simple_params.yaml is not sufficient."
   ]
  },
  {
   "cell_type": "markdown",
   "metadata": {
    "colab_type": "text",
    "id": "Bdno0bokLYgq"
   },
   "source": [
    "The next step is to generate the eigenvalues and eigenvectors of $H_0$.  This is done by calling the following class"
   ]
  },
  {
   "cell_type": "code",
   "execution_count": 0,
   "metadata": {
    "colab": {},
    "colab_type": "code",
    "id": "lX7OZ4NSLYgq"
   },
   "outputs": [],
   "source": [
    "uf2.vibronic_eigenstates.EigenGenerator(file_path)"
   ]
  },
  {
   "cell_type": "markdown",
   "metadata": {
    "colab_type": "text",
    "id": "ROB0rwAJLYgt"
   },
   "source": [
    "Once the eigenvalues and eigenvectors are obtained, you must express the dipole matrix in the eigenbasis.  Currently we only have the Condon Approximation implemented.  You generate the dipole operator using the following call:"
   ]
  },
  {
   "cell_type": "code",
   "execution_count": 0,
   "metadata": {
    "colab": {},
    "colab_type": "code",
    "id": "4cc6JXwSLYgt"
   },
   "outputs": [],
   "source": [
    "uf2.vibronic_eigenstates.CalculateCartesianDipoleOperator(file_path)"
   ]
  },
  {
   "cell_type": "markdown",
   "metadata": {
    "colab_type": "text",
    "id": "gp92YU4oLYgv"
   },
   "source": [
    "Now the folder file_path should contain a file called mu.npz, which has the dipoles connecting the GSM to the SEM, and the SEM to the DEM"
   ]
  },
  {
   "cell_type": "markdown",
   "metadata": {
    "colab_type": "text",
    "id": "-RgiZuLJLYgw"
   },
   "source": [
    "## Necessary files\n",
    "This section describes the necessary files for $\\text{UF}^2$ to work.  If you are using our vibronic_eigenstates package as detailed above in the Vibronic Eigenstates subsection, you don't need to read this (although feel free if you want to see how we store the eigenvalues and dipole operator).\n",
    "\n",
    "In actuality, $\\text{UF}^2$ does not need to know the eigenvectors, so if you have some other way of generating the dipole operator in the eigenbasis, all you need to do is save the following two files in the folder specified by the file_path variable.  You can skip over the above steps, and do not need to use simple_params.yaml or params.yaml.  All that you need is for the folder to conatin the following two numpy archive files:\n",
    "- eigenvalues.npz - containing up to three keys, each referencing a 1d numpy array\n",
    "    - 'GSM' - Array of ground state manifold eigenvalues\n",
    "    - 'SEM' - Array of singly excited manifold eigenvalues\n",
    "    - 'DEM' (optional) - Array of doubly excited manifold eigenvalues\n",
    "- mu.npz - containing up to two keys, each referencing a 3d numpy array\n",
    "    - 'GSM_to_SEM' - Array with indices [i,j,k], representing the dipole operator connecting ground eigenstates (index j) to singly excited eigenstates (index i), with the cartesian coordinate k = 0,1,2 corresponding to k = x,y,z\n",
    "    - 'SEM_to_DEM' - Array with indices [i,j,k], representing the dipole operator connecting singly excited eigenstates (index j) to doubly excited eigenstates (index i), with the cartesian coordinate k = 0,1,2 corresponding to k = x,y,z\n",
    "    \n",
    "See the example_folder included with the github repository for an example of a folder that contains only the necessary files for $\\text{UF}^2$, but not the files for using the vibronic_eigenstates package."
   ]
  },
  {
   "cell_type": "code",
   "execution_count": 0,
   "metadata": {
    "colab": {},
    "colab_type": "code",
    "id": "G_QiYzHcLYgw"
   },
   "outputs": [],
   "source": [
    "eigenvalues_archive = np.load(file_path + 'eigenvalues.npz')\n",
    "GSM_eigenvalues = eigenvalues_archive['GSM']\n",
    "SEM_eigenvalues = eigenvalues_archive['SEM']\n",
    "try:\n",
    "    DEM_eigenvalues = eigenvalues_archive['DEM']\n",
    "except KeyError:\n",
    "    DEM_eigenvalues = 'System does not appear to have a doubly excited manifold'\n",
    "print('Number of GSM eigenvalues',GSM_eigenvalues.shape)\n",
    "print('Number of SEM eigenvalues',SEM_eigenvalues.shape)\n",
    "print('Number of DEM eigenvalues',DEM_eigenvalues.shape)\n",
    "\n",
    "mu_archive = np.load(file_path + 'mu.npz')\n",
    "mu_GSM_to_SEM = mu_archive['GSM_to_SEM']\n",
    "try:\n",
    "    mu_SEM_to_DEM = mu_archive['SEM_to_DEM']\n",
    "except KeyError:\n",
    "    mu_SEM_to_DEM = 'System does not appear to have a doubly excited manifold'\n",
    "\n",
    "print('Shape of dipole operator connecting GSM to SEM',mu_GSM_to_SEM.shape)\n",
    "print('Shape of dipole operator connecting SEM to DEM',mu_SEM_to_DEM.shape)"
   ]
  },
  {
   "cell_type": "markdown",
   "metadata": {
    "colab_type": "text",
    "id": "z6xTwSZ_LYg0"
   },
   "source": [
    "### Dipole Pruning (optional)\n",
    "You may choose to prune or trim the dipole operator contained in mu.npz down to the fewest necessary states.  This is done by specifying a relative tolerance to use when resolving the dipole operator.  The pruning is implemented as"
   ]
  },
  {
   "cell_type": "code",
   "execution_count": 0,
   "metadata": {
    "colab": {},
    "colab_type": "code",
    "id": "NoHVEOtpLYg0"
   },
   "outputs": [],
   "source": [
    "epsilon_mu = 3.5E-4 # This is a convergence parameter.  We have found this value to be appropriate for this system\n",
    "dp = uf2.DipolePruning(file_path)\n",
    "dp.save_boolean_mu(rel_tol = epsilon_mu)"
   ]
  },
  {
   "cell_type": "markdown",
   "metadata": {
    "colab_type": "text",
    "id": "QXOxLkaULYg2"
   },
   "source": [
    "There should now be two new files in the folder we created: mu_pruned.npz and mu_boolean.npz.  mu_pruned.npz is essentially a copy of mu.npz, but with 0's placed in any entries that do not contribute to the given tolerance.  mu_boolean.npz is a boolean array with 2 indices [i,j] that has True for any unaffected values $\\mu_{ij}$, and False where ever the pruning process set $\\mu_{ij}=0$."
   ]
  },
  {
   "cell_type": "code",
   "execution_count": 0,
   "metadata": {
    "colab": {},
    "colab_type": "code",
    "id": "nFPyb9Ci6HMA"
   },
   "outputs": [],
   "source": [
    "# Let's check!\n",
    "!ls '/tmp/dimer_example/'"
   ]
  },
  {
   "cell_type": "markdown",
   "metadata": {
    "colab_type": "text",
    "id": "iaxYkyMkLYg2"
   },
   "source": [
    "## Example Diagram\n",
    "Here is an example of how to use the algorithm to calculate the SE contribution of a pump-probe experiment.  We begin by specifying the relevant electric fields. Note that $\\text{UF}^2$ does not require analytical pulse shapes.  We use Gaussian pulses here as an example."
   ]
  },
  {
   "cell_type": "code",
   "execution_count": 0,
   "metadata": {
    "colab": {},
    "colab_type": "code",
    "id": "CIPl26t3LYg3"
   },
   "outputs": [],
   "source": [
    "def pump(t,sigma):\n",
    "    \"\"\"Define pump field\"\"\"\n",
    "    return 1/np.sqrt(2*np.pi)/sigma*np.exp(-t**2/(2*sigma**2))\n",
    "\n",
    "def probe(t,sigma):\n",
    "    \"\"\"Define the probe field\"\"\"\n",
    "    return 1/np.sqrt(2*np.pi)/sigma*np.exp(-t**2/(2*sigma**2))"
   ]
  },
  {
   "cell_type": "markdown",
   "metadata": {
    "colab_type": "text",
    "id": "3Why3RvmLYg5"
   },
   "source": [
    "## Units\n",
    "Units enter UF2 implicitly via the eigenvalues of the system hamiltonian.  We assume that the eigenvalues are expressed as multiples of some angular frequency $\\omega_0$.  All times are expressed in units of $\\omega_0^{-1}$, and all frequencies are expressed in units of $\\omega_0$."
   ]
  },
  {
   "cell_type": "code",
   "execution_count": 0,
   "metadata": {
    "colab": {},
    "colab_type": "code",
    "id": "w-6ZYFVqLYg5"
   },
   "outputs": [],
   "source": [
    "# Define the pump and probe amplitude functions.  Note that both should be defined centered at t = 0\n",
    "\n",
    "pump_sigma = 0.8 # in units of omega_0^-1\n",
    "probe_sigma = 1 # in units of omega_0^-1\n",
    "\n",
    "# Define the time grid on which the electric fields are to be evaluated\n",
    "dt = 0.25 # in units of omega_0^-1, time spacing required to resolve all pulse shapes\n",
    "M = 41 # in units of omega_0^-1, number of points required to resolve all pulse shapes\n",
    "\n",
    "# Define the time grid on which the wavefunctions will be expressed\n",
    "total_t = int(200/dt) # in units of omega_0^-1, total number of time points - \n",
    "                      # must span from 0 to 5/gamma beyond last delay time point\n",
    "\n",
    "wp = uf2.Wavepackets(file_path,dt=dt,num_conv_points=M,total_num_time_points=total_t)\n",
    "\n",
    "# The value of M and dt specified create an array of time points that must be used to evaluate the electric field\n",
    "# That array is stored inside of the Wavepackets object with attribute efield_t\n",
    "\n",
    "# pu and pr do not need to be evaluated using an analytical pulse function\n",
    "pu = pump(wp.efield_t,pump_sigma) # Could be a numpy array of M points describing an arbitrary pulse shape\n",
    "pr = probe(wp.efield_t,probe_sigma) # Could be a numpy array of M points describing an arbitrary pulse shape\n",
    "\n",
    "# Pump-probe spectroscopy is calculated to lowest order as four-wave mixing\n",
    "# where the pump provides the first two interactions, and the probe\n",
    "# provides the third interaction, and acts as the \"fourth interaction\" in \n",
    "# the form of the local oscillator\n",
    "\n",
    "wp.efields = [pu,pu,pr,pr]\n",
    "\n",
    "# The pump is polarized along the 'x' direcetion\n",
    "# The probe is polarized along the same direction\n",
    "\n",
    "wp.set_polarization_sequence(['x','x','x','x'])\n",
    "\n",
    "# Set gamma - effective optical dephasing rate\n",
    "wp.set_homogeneous_linewidth(0.05)"
   ]
  },
  {
   "cell_type": "code",
   "execution_count": 0,
   "metadata": {
    "colab": {},
    "colab_type": "code",
    "id": "60euFTMcLYg7"
   },
   "outputs": [],
   "source": [
    "# Create the wavepackets needed for the SE signal at the specified delay time\n",
    "\n",
    "delay_time = 10\n",
    "\n",
    "# Using this delay time, set the interaction times for each of the four interactions\n",
    "# in the form [pump_time, pump_time, probe_time, probe_time]\n",
    "\n",
    "wp.pulse_times = [0,0,delay_time,delay_time]\n",
    "\n",
    "# Construct Perturbative Wavepackets\n",
    "\n",
    "psi_b = wp.up(wp.psi0,pulse_number = 1)\n",
    "psi_a = wp.up(wp.psi0,pulse_number = 0)\n",
    "psi_ac = wp.down(psi_a,pulse_number = 2)\n",
    "\n",
    "# Calculate the SE contribution to the resulting frequency-resolved spectrum at the specified delay time\n",
    "\n",
    "# The time-dependent polarization field is the expectation value of the perturbed wavepackets and\n",
    "# the dipole operator\n",
    "\n",
    "SE_polarization = wp.dipole_expectation(psi_ac,psi_b)\n",
    "\n",
    "# Finally convert that polarization into a heterodyne-detected signal\n",
    "\n",
    "SE_signal = wp.polarization_to_signal(SE_polarization)\n",
    "\n",
    "# The frequency-detected signal for this value of delay time is plotted here\n",
    "\n",
    "plt.figure()\n",
    "plt.plot(wp.w,SE_signal)\n",
    "plt.xlim([-3,3])\n",
    "plt.xlabel('Detection Frequency ($\\omega_0$)',fontsize=14)\n",
    "plt.ylabel('Stimulated Emission \\n Contribution to TA',fontsize=14)\n",
    "titletext = plt.title('Delay Time = {}'.format(delay_time) + '$\\omega_0^{-1}$',\n",
    "                     fontsize=16)"
   ]
  },
  {
   "cell_type": "markdown",
   "metadata": {
    "colab_type": "text",
    "id": "W03fTSjrLYg9"
   },
   "source": [
    "## Signals\n",
    "There are four files located in the signals sub-directory that show examples of how to use uf2 to implement various $n$-wave mixing signals"
   ]
  },
  {
   "cell_type": "markdown",
   "metadata": {
    "colab_type": "text",
    "id": "4cj_sOfULYg-"
   },
   "source": [
    "### Transient Absorption\n",
    "\n",
    "The file TA_example.py includes a class, TransientAbsorption, that calculates all of the required diagrams for the transient absorption signal using uf2.Wavepackets.  An example of using that class is given here.  To see how all of the diagrams are coded and combined into one signal, please see the code."
   ]
  },
  {
   "cell_type": "code",
   "execution_count": 0,
   "metadata": {
    "colab": {},
    "colab_type": "code",
    "id": "FKRl-rrnLYg-"
   },
   "outputs": [],
   "source": [
    "pump_sigma = 0.2\n",
    "probe_sigma = 0.2\n",
    "dt = min(pump_sigma,probe_sigma)/2\n",
    "M = 21\n",
    "total_t = int(250/dt)"
   ]
  },
  {
   "cell_type": "code",
   "execution_count": 0,
   "metadata": {
    "colab": {},
    "colab_type": "code",
    "id": "5I2DgK_1LYhA"
   },
   "outputs": [],
   "source": [
    "# Specify initial state in the GSM. Usually this is the 0 state (the lowest energy eigenstate), but if you are\n",
    "# interested including thermal averaging, you may want to run several simulations using different starting states\n",
    "psi0_state = 0\n",
    "\n",
    "# Initialize object with filepath to saved eigenvalues and dipole operator\n",
    "ta = uf2.signals.TransientAbsorption(file_path,dt=dt,num_conv_points=M,total_num_time_points=total_t,\n",
    "                                    initial_state=psi0_state)\n",
    "\n",
    "# As before, signal fields and polarization sequence must be set\n",
    "\n",
    "pu = pump(ta.efield_t,pump_sigma) #Using above Gaussian field definition\n",
    "pr = probe(ta.efield_t,probe_sigma) #Using above Gaussian field definition\n",
    "\n",
    "# The class TransientAbsorption has a method for setting the four interaction fields given the pump shape and the\n",
    "# probe shape\n",
    "\n",
    "ta.set_pulse_shapes(pu,pr)\n",
    "\n",
    "# The pump is polarized along the 'x' direcetion\n",
    "# The probe is polarized along the same direcetion\n",
    "\n",
    "pol_seq = ['x','x','x','x']\n",
    "\n",
    "ta.set_polarization_sequence(pol_seq)"
   ]
  },
  {
   "cell_type": "code",
   "execution_count": 0,
   "metadata": {
    "colab": {},
    "colab_type": "code",
    "id": "Pf6pjzmCLYhF"
   },
   "outputs": [],
   "source": [
    "# Pick delay times of interest.  The code is written in such a way that negative delay times cannot be calculated. \n",
    "# This is a limitation of the implementation, not of the method\n",
    "delay_times = np.arange(0,90,1) #delay times must coincide with time mesh calculation is performed on\n",
    "\n",
    "# The class TransientAbsorption includes all necessary diagrams for calculating the TA signal\n",
    "\n",
    "spectra = ta.calculate_pump_probe_spectra_vs_delay_time(delay_times)\n",
    "ta.save_pump_probe_spectra_vs_delay_time()\n",
    "ta.plot_pump_probe_spectra(frequency_range = [-5,5],subtract_DC=True,save_fig=True)"
   ]
  },
  {
   "cell_type": "code",
   "execution_count": 0,
   "metadata": {
    "colab": {},
    "colab_type": "code",
    "id": "_h5UNsMUyhAY"
   },
   "outputs": [],
   "source": [
    "ta_iso = uf2.signals.TransientAbsorptionIsotropicAverage(file_path,pol_seq,dt=dt,num_conv_points=M,\n",
    "                                                         initial_state=psi0_state, total_num_time_points=total_t)\n",
    "ta_iso.set_pulse_shapes(pu,pr)"
   ]
  },
  {
   "cell_type": "code",
   "execution_count": 0,
   "metadata": {
    "colab": {},
    "colab_type": "code",
    "id": "q7jTnjr5uUss"
   },
   "outputs": [],
   "source": [
    "spectra_iso = ta_iso.calculate_spectra(delay_times)\n",
    "ta_iso.save_pump_probe_spectra_vs_delay_time()\n",
    "ta_iso.plot_pump_probe_spectra(frequency_range = [-5,5],subtract_DC=True,save_fig=True)"
   ]
  }
 ],
 "metadata": {
  "colab": {
   "include_colab_link": true,
   "name": "UF2_Colab.ipynb",
   "provenance": [],
   "version": "0.3.2"
  },
  "kernelspec": {
   "display_name": "Python 3",
   "language": "python",
   "name": "python3"
  },
  "language_info": {
   "codemirror_mode": {
    "name": "ipython",
    "version": 3
   },
   "file_extension": ".py",
   "mimetype": "text/x-python",
   "name": "python",
   "nbconvert_exporter": "python",
   "pygments_lexer": "ipython3",
   "version": "3.7.3"
  }
 },
 "nbformat": 4,
 "nbformat_minor": 1
}
